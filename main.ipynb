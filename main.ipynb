{
 "cells": [
  {
   "cell_type": "code",
   "execution_count": 2,
   "id": "d5d7791e",
   "metadata": {},
   "outputs": [
    {
     "name": "stderr",
     "output_type": "stream",
     "text": [
      "  % Total    % Received % Xferd  Average Speed   Time    Time     Time  Current\n",
      "                                 Dload  Upload   Total   Spent    Left  Speed\n",
      "\n",
      "  0     0    0     0    0     0      0      0 --:--:-- --:--:-- --:--:--     0\n",
      "100  703k  100  703k    0     0  1586k      0 --:--:-- --:--:-- --:--:-- 1635k\n",
      "  % Total    % Received % Xferd  Average Speed   Time    Time     Time  Current\n",
      "                                 Dload  Upload   Total   Spent    Left  Speed\n",
      "\n",
      "  0     0    0     0    0     0      0      0 --:--:-- --:--:-- --:--:--     0\n",
      "100  184k  100  184k    0     0  1396k      0 --:--:-- --:--:-- --:--:-- 1486k\n"
     ]
    }
   ],
   "source": [
    "!curl -o train.tsv https://raw.githubusercontent.com/clairett/pytorch-sentiment-classification/master/data/SST2/train.tsv\n",
    "!curl -o test.tsv https://raw.githubusercontent.com/clairett/pytorch-sentiment-classification/master/data/SST2/test.tsv\n"
   ]
  },
  {
   "cell_type": "code",
   "execution_count": 3,
   "id": "d9d97a7e",
   "metadata": {},
   "outputs": [],
   "source": [
    "import pandas as pd\n",
    "from sklearn.feature_extraction.text import CountVectorizer\n",
    "from sklearn.model_selection import train_test_split"
   ]
  },
  {
   "cell_type": "code",
   "execution_count": 4,
   "id": "e7ea268c",
   "metadata": {},
   "outputs": [
    {
     "name": "stdout",
     "output_type": "stream",
     "text": [
      "Training set: (5535, 2)\n",
      "Validation set: (1384, 2)\n"
     ]
    }
   ],
   "source": [
    "# Load .tsv files\n",
    "train_df = pd.read_csv(\"train.tsv\", sep='\\t')\n",
    "test_df = pd.read_csv(\"test.tsv\", sep='\\t')\n",
    "\n",
    "\n",
    "train_data, val_data = train_test_split(train_df, test_size=0.2, random_state=42)\n",
    "\n",
    "# Check results\n",
    "print(\"Training set:\", train_data.shape)\n",
    "print(\"Validation set:\", val_data.shape)\n"
   ]
  },
  {
   "cell_type": "code",
   "execution_count": 5,
   "id": "1523501d",
   "metadata": {},
   "outputs": [
    {
     "name": "stdout",
     "output_type": "stream",
     "text": [
      "X_train shape: (5536, 10000)\n",
      "X_val shape: (1384, 10000)\n"
     ]
    }
   ],
   "source": [
    "import pandas as pd\n",
    "from sklearn.feature_extraction.text import CountVectorizer\n",
    "from sklearn.model_selection import train_test_split\n",
    "\n",
    "# Load with column names manually set\n",
    "train_df = pd.read_csv(\"train.tsv\", sep='\\t', header=None, names=[\"sentence\", \"label\"])\n",
    "test_df = pd.read_csv(\"test.tsv\", sep='\\t', header=None, names=[\"sentence\", \"label\"])\n",
    "\n",
    "# Split 20% for validation\n",
    "train_data, val_data = train_test_split(train_df, test_size=0.2, random_state=42)\n",
    "\n",
    "# Initialize Bag-of-Words vectorizer\n",
    "vectorizer = CountVectorizer(max_features=10000)\n",
    "X_train = vectorizer.fit_transform(train_data['sentence']).toarray()\n",
    "X_val = vectorizer.transform(val_data['sentence']).toarray()\n",
    "y_train = train_data['label'].values\n",
    "y_val = val_data['label'].values\n",
    "\n",
    "print(\"X_train shape:\", X_train.shape)\n",
    "print(\"X_val shape:\", X_val.shape)\n"
   ]
  },
  {
   "cell_type": "markdown",
   "id": "73649e0f",
   "metadata": {},
   "source": [
    "# Designing Model"
   ]
  },
  {
   "cell_type": "code",
   "execution_count": 6,
   "id": "faf61a5e",
   "metadata": {},
   "outputs": [],
   "source": [
    "import torch.nn as nn\n",
    "import torch\n",
    "\n",
    "\n",
    "class MLP(nn.Module):\n",
    "    def __init__(self, input_dim, hidden_1=512,hidden_2=256,hidden_3=128,hidden_4=64, output_dim=2):\n",
    "        super(MLP, self).__init__()\n",
    "        self.fc1 = nn.Linear(input_dim, hidden_1)\n",
    "        self.fc2 = nn.Linear(hidden_1, hidden_2)\n",
    "        self.fc3 = nn.Linear(hidden_2, hidden_3)\n",
    "        self.fc4 = nn.Linear(hidden_3, hidden_4)\n",
    "        self.fc5 = nn.Linear(hidden_4, output_dim)\n",
    "        self.relu = nn.ReLU()\n",
    "        self.dropout = nn.Dropout(0.3)\n",
    "\n",
    "    def forward(self, x):\n",
    "        x = self.fc1(x)\n",
    "        x = self.relu(x)    \n",
    "        x = self.dropout(x)\n",
    "        x = self.fc2(x)\n",
    "        x = self.relu(x)\n",
    "        x = self.dropout(x)\n",
    "        x = self.fc3(x)\n",
    "        x = self.relu(x)\n",
    "        x = self.dropout(x)\n",
    "        x = self.fc4(x)\n",
    "        x = self.relu(x)\n",
    "        x = self.dropout(x)\n",
    "        x = self.fc5(x)\n",
    "        return x\n",
    "\n"
   ]
  },
  {
   "cell_type": "markdown",
   "id": "077ecf86",
   "metadata": {},
   "source": [
    "# Making model and count the parameter"
   ]
  },
  {
   "cell_type": "code",
   "execution_count": 10,
   "id": "4c0f07f1",
   "metadata": {},
   "outputs": [
    {
     "name": "stdout",
     "output_type": "stream",
     "text": [
      "Total trainable parameters: 5,293,122\n"
     ]
    },
    {
     "data": {
      "text/plain": [
       "'\\n(10000 * 512 + 512) = 5,120,512\\n(512 * 256 + 256)   =   131,328\\n(256 * 128 + 128)   =    32,896\\n(128 * 64 + 64)     =     8,256\\n(64 * 2 + 2)        =       130\\n----------------------------\\nTotal               = 5,293,122\\n\\n# 5,293,122 trainable parameters\\n'"
      ]
     },
     "execution_count": 10,
     "metadata": {},
     "output_type": "execute_result"
    }
   ],
   "source": [
    "model = MLP(input_dim=10000)\n",
    "\n",
    "# Count trainable parameters\n",
    "num_params = sum(p.numel() for p in model.parameters() if p.requires_grad)\n",
    "\n",
    "print(f\"Total trainable parameters: {num_params:,}\")\n",
    "\n",
    "\n",
    "\"\"\"\n",
    "(10000 * 512 + 512) = 5,120,512\n",
    "(512 * 256 + 256)   =   131,328\n",
    "(256 * 128 + 128)   =    32,896\n",
    "(128 * 64 + 64)     =     8,256\n",
    "(64 * 2 + 2)        =       130\n",
    "----------------------------\n",
    "Total               = 5,293,122\n",
    "\n",
    "# 5,293,122 trainable parameters\n",
    "\"\"\"\n"
   ]
  },
  {
   "cell_type": "markdown",
   "id": "db3fa4db",
   "metadata": {},
   "source": [
    "# Training the Model"
   ]
  },
  {
   "cell_type": "code",
   "execution_count": 11,
   "id": "b7979cd5",
   "metadata": {},
   "outputs": [
    {
     "name": "stdout",
     "output_type": "stream",
     "text": [
      "Epoch 1 | Train Loss: 0.6186 | Val Loss: 10.2053 | Val Acc: 79.77%\n",
      "Epoch 2 | Train Loss: 0.2971 | Val Loss: 10.8675 | Val Acc: 79.99%\n",
      "Epoch 3 | Train Loss: 0.0889 | Val Loss: 14.1575 | Val Acc: 80.56%\n",
      "Epoch 4 | Train Loss: 0.0224 | Val Loss: 21.7217 | Val Acc: 79.34%\n",
      "Epoch 5 | Train Loss: 0.0082 | Val Loss: 28.6765 | Val Acc: 80.27%\n",
      "Epoch 6 | Train Loss: 0.0025 | Val Loss: 37.2083 | Val Acc: 79.41%\n",
      "Epoch 7 | Train Loss: 0.0003 | Val Loss: 43.7808 | Val Acc: 79.19%\n",
      "Epoch 8 | Train Loss: 0.0002 | Val Loss: 49.6720 | Val Acc: 79.19%\n",
      "Epoch 9 | Train Loss: 0.0001 | Val Loss: 59.6675 | Val Acc: 78.83%\n",
      "Epoch 10 | Train Loss: 0.0125 | Val Loss: 40.0843 | Val Acc: 78.68%\n"
     ]
    },
    {
     "data": {
      "image/png": "[encoded data removed]",
      "text/plain": [
       "<Figure size 1200x500 with 2 Axes>"
      ]
     },
     "metadata": {},
     "output_type": "display_data"
    }
   ],
   "source": [
    "import torch\n",
    "import torch.nn as nn\n",
    "import torch.optim as optim\n",
    "import matplotlib.pyplot as plt\n",
    "from torch.utils.data import TensorDataset, DataLoader\n",
    "\n",
    "# Prepare data\n",
    "X_train_tensor = torch.tensor(X_train, dtype=torch.float32)\n",
    "X_val_tensor = torch.tensor(X_val, dtype=torch.float32)\n",
    "y_train_tensor = torch.tensor(y_train, dtype=torch.long)\n",
    "y_val_tensor = torch.tensor(y_val, dtype=torch.long)\n",
    "\n",
    "train_dataset = TensorDataset(X_train_tensor, y_train_tensor)\n",
    "val_dataset = TensorDataset(X_val_tensor, y_val_tensor)\n",
    "\n",
    "train_loader = DataLoader(train_dataset, batch_size=64, shuffle=True)\n",
    "val_loader = DataLoader(val_dataset, batch_size=64)\n",
    "\n",
    "# Model, loss, optimizer\n",
    "input_dim = X_train.shape[1]\n",
    "model = MLP(input_dim=input_dim)\n",
    "criterion = nn.CrossEntropyLoss()\n",
    "optimizer = optim.Adam(model.parameters(), lr=0.001)\n",
    "\n",
    "# Training loop\n",
    "best_val_acc = 0.0\n",
    "train_losses, val_losses, val_accuracies = [], [], []\n",
    "\n",
    "for epoch in range(10):\n",
    "    model.train()\n",
    "    running_loss = 0.0\n",
    "    for batch_x, batch_y in train_loader:\n",
    "        optimizer.zero_grad()\n",
    "        outputs = model(batch_x)\n",
    "        loss = criterion(outputs, batch_y)\n",
    "        loss.backward()\n",
    "        optimizer.step()\n",
    "        running_loss += loss.item()\n",
    "    avg_train_loss = running_loss / len(train_loader)\n",
    "    train_losses.append(avg_train_loss)\n",
    "\n",
    "    # Validation\n",
    "    model.eval()\n",
    "    val_loss = 0.0\n",
    "    correct = 0\n",
    "    total = 0\n",
    "    with torch.no_grad():\n",
    "        for batch_x, batch_y in val_loader:\n",
    "            outputs = model(batch_x)\n",
    "            loss = criterion(outputs, batch_y)\n",
    "            val_loss += loss.item()\n",
    "            _, predicted = torch.max(outputs, 1)\n",
    "            correct += (predicted == batch_y).sum().item()\n",
    "            total += batch_y.size(0)\n",
    "    acc = 100 * correct / total\n",
    "    val_losses.append(val_loss / len(val_loader))\n",
    "    val_accuracies.append(acc)\n",
    "\n",
    "    print(f\"Epoch {epoch+1} | Train Loss: {avg_train_loss:.4f} | Val Loss: {val_loss:.4f} | Val Acc: {acc:.2f}%\")\n",
    "\n",
    "    # Save best model\n",
    "    if acc > best_val_acc:\n",
    "        best_val_acc = acc\n",
    "        torch.save(model.state_dict(), \"checkpoint.pt\")\n",
    "\n",
    "# Plot\n",
    "plt.figure(figsize=(12,5))\n",
    "plt.subplot(1,2,1)\n",
    "plt.plot(range(1, 11), val_accuracies, label=\"Val Accuracy\")\n",
    "plt.xlabel(\"Epoch\")\n",
    "plt.ylabel(\"Accuracy (%)\")\n",
    "plt.title(\"Validation Accuracy\")\n",
    "plt.grid(True)\n",
    "plt.subplot(1,2,2)\n",
    "plt.plot(range(1, 11), val_losses, label=\"Val Loss\", color='orange')\n",
    "plt.xlabel(\"Epoch\")\n",
    "plt.ylabel(\"Loss\")\n",
    "plt.title(\"Validation Loss\")\n",
    "plt.grid(True)\n",
    "plt.tight_layout()\n",
    "plt.show()\n"
   ]
  },
  {
   "cell_type": "code",
   "execution_count": 12,
   "id": "2a3a83fb",
   "metadata": {},
   "outputs": [
    {
     "name": "stdout",
     "output_type": "stream",
     "text": [
      "Original Model Results:\n",
      "Accuracy: 80.56%\n",
      "Model Size: 20.20 MB\n",
      "Inference Time: 58.56 ms\n",
      "Number of parameters: 5,293,122\n"
     ]
    },
    {
     "name": "stderr",
     "output_type": "stream",
     "text": [
      "C:\\Users\\Parth\\AppData\\Local\\Temp\\ipykernel_20524\\2652459993.py:5: FutureWarning: You are using `torch.load` with `weights_only=False` (the current default value), which uses the default pickle module implicitly. It is possible to construct malicious pickle data which will execute arbitrary code during unpickling (See https://github.com/pytorch/pytorch/blob/main/SECURITY.md#untrusted-models for more details). In a future release, the default value for `weights_only` will be flipped to `True`. This limits the functions that could be executed during unpickling. Arbitrary objects will no longer be allowed to be loaded via this mode unless they are explicitly allowlisted by the user via `torch.serialization.add_safe_globals`. We recommend you start setting `weights_only=True` for any use case where you don't have full control of the loaded file. Please open an issue on GitHub for any issues related to this experimental feature.\n",
      "  model_fp32.load_state_dict(torch.load(\"checkpoint.pt\"))\n"
     ]
    }
   ],
   "source": [
    "import time\n",
    "import os\n",
    "\n",
    "model_fp32 = MLP(input_dim=input_dim)\n",
    "model_fp32.load_state_dict(torch.load(\"checkpoint.pt\"))\n",
    "model_fp32.eval()\n",
    "\n",
    "\n",
    "torch.save(model_fp32.state_dict(), \"original_model.pt\")\n",
    "size_original_mb = os.path.getsize(\"original_model.pt\") / (1024 * 1024)\n",
    "\n",
    "# Inference\n",
    "X_val_tensor = torch.tensor(X_val, dtype=torch.float32)\n",
    "start = time.time()\n",
    "with torch.no_grad():\n",
    "    outputs = model_fp32(X_val_tensor)\n",
    "    preds = torch.argmax(outputs, dim=1)\n",
    "inference_time_ms = (time.time() - start) * 1000\n",
    "\n",
    "# Accuracy\n",
    "correct = (preds == torch.tensor(y_val)).sum().item()\n",
    "accuracy_fp32 = 100 * correct / len(y_val)\n",
    "\n",
    "print(\"Original Model Results:\")\n",
    "print(f\"Accuracy: {accuracy_fp32:.2f}%\")\n",
    "print(f\"Model Size: {size_original_mb:.2f} MB\")\n",
    "print(f\"Inference Time: {inference_time_ms:.2f} ms\")\n",
    "\n",
    "# Number of parameters\n",
    "num_params_fp32 = sum(p.numel() for p in model_fp32.parameters() if p.requires_grad)    \n",
    "print(f\"Number of parameters: {num_params_fp32:,}\")\n"
   ]
  },
  {
   "cell_type": "code",
   "execution_count": 13,
   "id": "ab3e5d58",
   "metadata": {},
   "outputs": [
    {
     "name": "stderr",
     "output_type": "stream",
     "text": [
      "C:\\Users\\Parth\\AppData\\Local\\Temp\\ipykernel_20524\\3662412616.py:7: FutureWarning: You are using `torch.load` with `weights_only=False` (the current default value), which uses the default pickle module implicitly. It is possible to construct malicious pickle data which will execute arbitrary code during unpickling (See https://github.com/pytorch/pytorch/blob/main/SECURITY.md#untrusted-models for more details). In a future release, the default value for `weights_only` will be flipped to `True`. This limits the functions that could be executed during unpickling. Arbitrary objects will no longer be allowed to be loaded via this mode unless they are explicitly allowlisted by the user via `torch.serialization.add_safe_globals`. We recommend you start setting `weights_only=True` for any use case where you don't have full control of the loaded file. Please open an issue on GitHub for any issues related to this experimental feature.\n",
      "  model_fp32.load_state_dict(torch.load(\"checkpoint.pt\"))\n"
     ]
    },
    {
     "name": "stdout",
     "output_type": "stream",
     "text": [
      "Dynamic Quantization Results:\n",
      "Accuracy: 80.49%\n",
      "Model Size: 5.06 MB\n",
      "Inference Time: 94.78 ms\n",
      "Total trainable parameters (dynamic): 0\n"
     ]
    }
   ],
   "source": [
    "import torch\n",
    "import torch.nn as nn\n",
    "import time\n",
    "import os\n",
    "\n",
    "model_fp32 = MLP(input_dim=input_dim)\n",
    "model_fp32.load_state_dict(torch.load(\"checkpoint.pt\"))\n",
    "model_fp32.eval()\n",
    "\n",
    "# Apply dynamic quantization (INT8, not INT4)\n",
    "model_dynamic = torch.quantization.quantize_dynamic(\n",
    "    model_fp32, {nn.Linear}, dtype=torch.qint8\n",
    ")\n",
    "\n",
    "torch.save(model_dynamic.state_dict(), \"dynamic_quantized.pt\")\n",
    "size_dynamic_mb = os.path.getsize(\"dynamic_quantized.pt\") / (1024 * 1024)\n",
    "\n",
    "# Inference\n",
    "X_val_tensor_q = torch.tensor(X_val, dtype=torch.float32)\n",
    "start = time.time()\n",
    "with torch.no_grad():\n",
    "    outputs = model_dynamic(X_val_tensor_q)\n",
    "    preds = torch.argmax(outputs, dim=1)\n",
    "inference_time_ms = (time.time() - start) * 1000\n",
    "\n",
    "# Accuracy\n",
    "correct = (preds == torch.tensor(y_val)).sum().item()\n",
    "accuracy = 100 * correct / len(y_val)\n",
    "\n",
    "print(\"Dynamic Quantization Results:\")\n",
    "print(f\"Accuracy: {accuracy:.2f}%\")\n",
    "print(f\"Model Size: {size_dynamic_mb:.2f} MB\")\n",
    "print(f\"Inference Time: {inference_time_ms:.2f} ms\")\n",
    "\n",
    "# Number of parameters\n",
    "num_params_dynamic = sum(p.numel() for p in model_dynamic.parameters() if p.requires_grad)\n",
    "print(f\"Total trainable parameters (dynamic): {num_params_dynamic:,}\")"
   ]
  },
  {
   "cell_type": "code",
   "execution_count": 14,
   "id": "3ee1d9f8",
   "metadata": {},
   "outputs": [
    {
     "name": "stderr",
     "output_type": "stream",
     "text": [
      "C:\\Users\\Parth\\AppData\\Local\\Temp\\ipykernel_20524\\1512094581.py:2: FutureWarning: You are using `torch.load` with `weights_only=False` (the current default value), which uses the default pickle module implicitly. It is possible to construct malicious pickle data which will execute arbitrary code during unpickling (See https://github.com/pytorch/pytorch/blob/main/SECURITY.md#untrusted-models for more details). In a future release, the default value for `weights_only` will be flipped to `True`. This limits the functions that could be executed during unpickling. Arbitrary objects will no longer be allowed to be loaded via this mode unless they are explicitly allowlisted by the user via `torch.serialization.add_safe_globals`. We recommend you start setting `weights_only=True` for any use case where you don't have full control of the loaded file. Please open an issue on GitHub for any issues related to this experimental feature.\n",
      "  model_fp32.load_state_dict(torch.load(\"checkpoint.pt\"))\n"
     ]
    },
    {
     "name": "stdout",
     "output_type": "stream",
     "text": [
      "Half Precision Results:\n",
      "Accuracy: 80.56%\n",
      "Model Size: 10.10 MB\n",
      "Inference Time: 14319.69 ms\n",
      "Total trainable parameters (FP16): 5,293,122\n"
     ]
    }
   ],
   "source": [
    "model_fp32 = MLP(input_dim=input_dim)\n",
    "model_fp32.load_state_dict(torch.load(\"checkpoint.pt\"))\n",
    "model_fp16 = model_fp32.half()\n",
    "model_fp16.eval()\n",
    "\n",
    "X_val_tensor_fp16 = torch.tensor(X_val, dtype=torch.float16)\n",
    "\n",
    "\n",
    "start = time.time()\n",
    "with torch.no_grad():\n",
    "    outputs = model_fp16(X_val_tensor_fp16)\n",
    "    preds = torch.argmax(outputs, dim=1)\n",
    "inference_time_fp16 = (time.time() - start) * 1000\n",
    "\n",
    "# Accuracy\n",
    "correct = (preds == torch.tensor(y_val)).sum().item()\n",
    "accuracy_fp16 = 100 * correct / len(y_val)\n",
    "\n",
    "torch.save(model_fp16.state_dict(), \"half_precision.pt\")\n",
    "size_fp16_mb = os.path.getsize(\"half_precision.pt\") / (1024 * 1024)\n",
    "\n",
    "print(\"Half Precision Results:\")\n",
    "print(f\"Accuracy: {accuracy_fp16:.2f}%\")\n",
    "print(f\"Model Size: {size_fp16_mb:.2f} MB\")\n",
    "print(f\"Inference Time: {inference_time_fp16:.2f} ms\")\n",
    "# Number of parameters\n",
    "num_params_fp16 = sum(p.numel() for p in model_fp16.parameters() if p.requires_grad)\n",
    "print(f\"Total trainable parameters (FP16): {num_params_fp16:,}\")\n"
   ]
  },
  {
   "cell_type": "code",
   "execution_count": null,
   "id": "3a863191",
   "metadata": {},
   "outputs": [],
   "source": []
  }
 ],
 "metadata": {
  "kernelspec": {
   "display_name": "Python 3",
   "language": "python",
   "name": "python3"
  },
  "language_info": {
   "codemirror_mode": {
    "name": "ipython",
    "version": 3
   },
   "file_extension": ".py",
   "mimetype": "text/x-python",
   "name": "python",
   "nbconvert_exporter": "python",
   "pygments_lexer": "ipython3",
   "version": "3.10.11"
  }
 },
 "nbformat": 4,
 "nbformat_minor": 5
}
